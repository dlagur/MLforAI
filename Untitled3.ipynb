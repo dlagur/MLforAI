{
  "nbformat": 4,
  "nbformat_minor": 0,
  "metadata": {
    "colab": {
      "provenance": [],
      "authorship_tag": "ABX9TyNDWLOrSLtyHJH5CaslK7q1",
      "include_colab_link": true
    },
    "kernelspec": {
      "name": "python3",
      "display_name": "Python 3"
    },
    "language_info": {
      "name": "python"
    }
  },
  "cells": [
    {
      "cell_type": "markdown",
      "metadata": {
        "id": "view-in-github",
        "colab_type": "text"
      },
      "source": [
        "<a href=\"https://colab.research.google.com/github/dlagur/MLforAI/blob/main/Untitled3.ipynb\" target=\"_parent\"><img src=\"https://colab.research.google.com/assets/colab-badge.svg\" alt=\"Open In Colab\"/></a>"
      ]
    },
    {
      "cell_type": "code",
      "execution_count": null,
      "metadata": {
        "id": "jtMStPoTGb9o"
      },
      "outputs": [],
      "source": [
        "d = [0]*10001\n",
        "\n",
        "d[1], d[2] = 1,1\n",
        "\n",
        "for i in range(3, 10001):\n",
        "    d[i] = d[i-1] + d[i-2]"
      ]
    },
    {
      "cell_type": "markdown",
      "source": [
        "## title\n",
        "\n",
        "- list 1\n",
        "- list 2\n",
        "\n",
        "add\n",
        "[hyperlink] : www.naver.com\n"
      ],
      "metadata": {
        "id": "vRYw2tfIO3lM"
      }
    },
    {
      "cell_type": "code",
      "source": [
        "from google.colab import drive\n",
        "drive.mount('/content/drive')"
      ],
      "metadata": {
        "colab": {
          "base_uri": "https://localhost:8080/"
        },
        "id": "KT4vVRfvQ2nP",
        "outputId": "78ac50e2-fc8b-41db-f161-1c0deffcf894"
      },
      "execution_count": null,
      "outputs": [
        {
          "output_type": "stream",
          "name": "stdout",
          "text": [
            "Mounted at /content/drive\n"
          ]
        }
      ]
    },
    {
      "cell_type": "code",
      "source": [
        "! mkdir MyDrive"
      ],
      "metadata": {
        "id": "FZc9xOc0RE-L"
      },
      "execution_count": null,
      "outputs": []
    },
    {
      "cell_type": "code",
      "source": [
        "! cd 'MyDrive'"
      ],
      "metadata": {
        "id": "y5OaEnioQ9rg"
      },
      "execution_count": null,
      "outputs": []
    },
    {
      "cell_type": "code",
      "source": [
        "! git clone https://github.com/stefmolin/Hands-On-Data-Analysis-with-Pandas-2nd-edition"
      ],
      "metadata": {
        "colab": {
          "base_uri": "https://localhost:8080/"
        },
        "id": "emqEu-3TRSlG",
        "outputId": "46ee1d68-df2d-484b-edd1-cfa209861f4d"
      },
      "execution_count": null,
      "outputs": [
        {
          "output_type": "stream",
          "name": "stdout",
          "text": [
            "Cloning into 'Hands-On-Data-Analysis-with-Pandas-2nd-edition'...\n",
            "remote: Enumerating objects: 3415, done.\u001b[K\n",
            "remote: Counting objects: 100% (3415/3415), done.\u001b[K\n",
            "remote: Compressing objects: 100% (1233/1233), done.\u001b[K\n",
            "remote: Total 3415 (delta 2128), reused 3362 (delta 2119), pack-reused 0\u001b[K\n",
            "Receiving objects: 100% (3415/3415), 75.18 MiB | 26.02 MiB/s, done.\n",
            "Resolving deltas: 100% (2128/2128), done.\n"
          ]
        }
      ]
    },
    {
      "cell_type": "code",
      "source": [
        "! rmdir Hands-On-Data-Analysis-with-Pandas-2nd-edition"
      ],
      "metadata": {
        "colab": {
          "base_uri": "https://localhost:8080/"
        },
        "id": "tGR-L0oJRchO",
        "outputId": "04ea7239-d29f-4457-c617-366b1ad8dbb6"
      },
      "execution_count": null,
      "outputs": [
        {
          "output_type": "stream",
          "name": "stdout",
          "text": [
            "rmdir: failed to remove 'Hands-On-Data-Analysis-with-Pandas-2nd-edition': Directory not empty\n"
          ]
        }
      ]
    },
    {
      "cell_type": "code",
      "source": [
        "cd /content/Hands-On-Data-Analysis-with-Pandas-2nd-edition"
      ],
      "metadata": {
        "id": "3BazhXoqR_cb"
      },
      "execution_count": null,
      "outputs": []
    },
    {
      "cell_type": "code",
      "source": [
        "! git push"
      ],
      "metadata": {
        "colab": {
          "base_uri": "https://localhost:8080/"
        },
        "id": "naXR7sXoVqEp",
        "outputId": "7f1e74b0-e43f-43bf-cc2c-fde543d6f8ba"
      },
      "execution_count": 10,
      "outputs": [
        {
          "output_type": "stream",
          "name": "stdout",
          "text": [
            "fatal: not a git repository (or any of the parent directories): .git\n"
          ]
        }
      ]
    }
  ]
}